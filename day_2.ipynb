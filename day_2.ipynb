{
 "cells": [
  {
   "cell_type": "code",
   "execution_count": 6,
   "id": "1620a53d",
   "metadata": {},
   "outputs": [
    {
     "name": "stdout",
     "output_type": "stream",
     "text": [
      "welcome librarian success\n"
     ]
    }
   ],
   "source": [
    "print(\"welcome librarian success\")"
   ]
  },
  {
   "cell_type": "code",
   "execution_count": 7,
   "id": "9d1b63bc",
   "metadata": {},
   "outputs": [
    {
     "name": "stdout",
     "output_type": "stream",
     "text": [
      "ami\n"
     ]
    }
   ],
   "source": [
    "x =\"amie\"\n",
    "print(x[0:-1])"
   ]
  },
  {
   "cell_type": "code",
   "execution_count": 8,
   "id": "92ec94dc",
   "metadata": {},
   "outputs": [
    {
     "data": {
      "text/plain": [
       "2"
      ]
     },
     "execution_count": 8,
     "metadata": {},
     "output_type": "execute_result"
    }
   ],
   "source": [
    "x.index('i')"
   ]
  },
  {
   "cell_type": "code",
   "execution_count": 9,
   "id": "d066e68d",
   "metadata": {},
   "outputs": [
    {
     "name": "stdout",
     "output_type": "stream",
     "text": [
      "['ayo', 'bola']\n"
     ]
    }
   ],
   "source": [
    "p = [\"amie\",\"janiet\",\"ayo\",\"bola\"]\n",
    "index_val = p.index(\"janiet\")\n",
    "y_val = p[index_val+1:]\n",
    "print(y_val)"
   ]
  },
  {
   "cell_type": "code",
   "execution_count": 10,
   "id": "9162ee40",
   "metadata": {},
   "outputs": [
    {
     "name": "stdout",
     "output_type": "stream",
     "text": [
      "['amie']\n"
     ]
    }
   ],
   "source": [
    "z_val = p[:index_val]\n",
    "print(z_val)"
   ]
  },
  {
   "cell_type": "code",
   "execution_count": 11,
   "id": "ec7e1870",
   "metadata": {},
   "outputs": [
    {
     "name": "stdout",
     "output_type": "stream",
     "text": [
      "['janiet', 'ayo', 'bola', 'success']\n"
     ]
    }
   ],
   "source": [
    "p = [\"amie\",\"janiet\",\"ayo\",\"bola\",\"success\"]\n",
    "index_val = p.index(\"ayo\")\n",
    "y_val = p[index_val-1:]\n",
    "print(y_val)"
   ]
  },
  {
   "cell_type": "code",
   "execution_count": 12,
   "id": "1df84b1f",
   "metadata": {},
   "outputs": [
    {
     "name": "stdout",
     "output_type": "stream",
     "text": [
      "angel and funmi\n"
     ]
    }
   ],
   "source": [
    "d = [\"success\",\"kate\",\"mitchel\",\"funmi\",\"angel\",\"juan\",\"ada\",\"lola\",]\n",
    "count_avg = int(len(d)/2)\n",
    "new_cont_avg = count_avg - 1\n",
    "\n",
    "if len(d)%2 != 0:\n",
    "    print(d[count_avg])\n",
    "    \n",
    "else:\n",
    "    med_val = d[count_avg]\n",
    "    val_med = d[new_cont_avg]\n",
    "    print(f\"{med_val} and {val_med}\")"
   ]
  },
  {
   "cell_type": "code",
   "execution_count": 13,
   "id": "721f7410",
   "metadata": {},
   "outputs": [
    {
     "name": "stdout",
     "output_type": "stream",
     "text": [
      "4\n",
      "3\n"
     ]
    }
   ],
   "source": [
    "d = [\"success\",\"kate\",\"mitchel\",\"funmi\",\"angel\",\"juan\",\"ada\",\"lola\",]\n",
    "count_avg = int(len(d)/2)\n",
    "new_cont_avg = count_avg - 1\n",
    "print(count_avg)\n",
    "print(new_cont_avg)"
   ]
  },
  {
   "cell_type": "code",
   "execution_count": 14,
   "id": "485d6a05",
   "metadata": {},
   "outputs": [
    {
     "name": "stdout",
     "output_type": "stream",
     "text": [
      "[3, 6, 'jane', 'bella', ['total', 'madu']]\n"
     ]
    }
   ],
   "source": [
    "arr1 =[3,6,\"jane\",\"bella\"]\n",
    "arr2 =[\"total\",\"madu\"]\n",
    "arr1.append(arr2)\n",
    "print(arr1)"
   ]
  },
  {
   "cell_type": "code",
   "execution_count": 15,
   "id": "dd56907c",
   "metadata": {},
   "outputs": [
    {
     "name": "stdout",
     "output_type": "stream",
     "text": [
      "[3, 6, 'jane', 'bella', 'total', 'madu']\n"
     ]
    }
   ],
   "source": [
    "arr1 =[3,6,\"jane\",\"bella\"]\n",
    "arr2 =[\"total\",\"madu\"]\n",
    "for i in arr2:\n",
    "    arr1.append(i)\n",
    "print(arr1)"
   ]
  },
  {
   "cell_type": "code",
   "execution_count": 16,
   "id": "667798dc",
   "metadata": {},
   "outputs": [
    {
     "name": "stdout",
     "output_type": "stream",
     "text": [
      "[3, 6, 'jane', 'bella', 'total', 'madu', 'total', 'madu']\n"
     ]
    }
   ],
   "source": [
    "print(arr1 + arr2)"
   ]
  },
  {
   "cell_type": "code",
   "execution_count": 17,
   "id": "a534c867",
   "metadata": {},
   "outputs": [
    {
     "name": "stdout",
     "output_type": "stream",
     "text": [
      "['rihanna']\n"
     ]
    }
   ],
   "source": [
    "r_names = []\n",
    "array1 = [\"teni\",\"tiwa\",\"tems\",\"rihanna\"]\n",
    "for i in array1:\n",
    "    if i [0] == \"r\":\n",
    "        r_names.append(i)\n",
    "        print(r_names)"
   ]
  },
  {
   "cell_type": "code",
   "execution_count": 18,
   "id": "0c2d9dd6",
   "metadata": {},
   "outputs": [
    {
     "name": "stdout",
     "output_type": "stream",
     "text": [
      "['teni', 'tiwa', 'tems', 'rihanna']\n"
     ]
    }
   ],
   "source": [
    "print(array1)"
   ]
  },
  {
   "cell_type": "code",
   "execution_count": 19,
   "id": "cb55f81c",
   "metadata": {},
   "outputs": [
    {
     "name": "stdout",
     "output_type": "stream",
     "text": [
      "['teni', 'tiwa', 'tems', 'rihanna']\n"
     ]
    }
   ],
   "source": [
    "array1 = [\"teni\",\"tiwa\",\"tems\",\"rihanna\"]\n",
    "for i in array1:\n",
    "    if i [0] == \"r\":\n",
    "        r_names.append(i)\n",
    "        print(array1)"
   ]
  },
  {
   "cell_type": "code",
   "execution_count": 20,
   "id": "19118372",
   "metadata": {},
   "outputs": [
    {
     "name": "stdout",
     "output_type": "stream",
     "text": [
      "['teni', 'tiwa', 'tems', 'rihanna']\n"
     ]
    }
   ],
   "source": [
    "print(array1)\n",
    "array_names = [\"jacob\",\"obi\",\"moses\",\"victor\"]"
   ]
  },
  {
   "cell_type": "code",
   "execution_count": 21,
   "id": "391ff860",
   "metadata": {},
   "outputs": [
    {
     "name": "stdout",
     "output_type": "stream",
     "text": [
      "['Jacob', 'Obi', 'Moses', 'Victor']\n"
     ]
    }
   ],
   "source": [
    "new_surnames = []\n",
    "for i in array_names:\n",
    "    cap_names = i[0].upper() +i[1:]\n",
    "    new_surnames.append(cap_names)\n",
    "print(new_surnames)"
   ]
  },
  {
   "cell_type": "code",
   "execution_count": 22,
   "id": "7a21ba79",
   "metadata": {},
   "outputs": [
    {
     "name": "stdout",
     "output_type": "stream",
     "text": [
      "Jacob teni\n",
      "Obi tiwa\n",
      "Moses tems\n",
      "Victor rihanna\n"
     ]
    }
   ],
   "source": [
    "for i in range(0, len(array1)):\n",
    "    fullnames = f\"{new_surnames[i]} {array1[i]}\"\n",
    "    print(fullnames)"
   ]
  },
  {
   "cell_type": "code",
   "execution_count": 23,
   "id": "080a0f95",
   "metadata": {},
   "outputs": [
    {
     "name": "stdout",
     "output_type": "stream",
     "text": [
      "hannah\n",
      "shalom\n",
      "design\n"
     ]
    }
   ],
   "source": [
    "ele = [\"hannah\", \"shalom\", 10, 15, \"design\"]\n",
    "for i in ele:\n",
    "    test = isinstance(i,str)\n",
    "    if test == True:\n",
    "        print(i)\n",
    "    "
   ]
  },
  {
   "cell_type": "code",
   "execution_count": 24,
   "id": "ee2cb53d",
   "metadata": {},
   "outputs": [
    {
     "data": {
      "text/plain": [
       "str"
      ]
     },
     "execution_count": 24,
     "metadata": {},
     "output_type": "execute_result"
    }
   ],
   "source": [
    "type(\"hannah\")"
   ]
  },
  {
   "cell_type": "code",
   "execution_count": 25,
   "id": "039f495d",
   "metadata": {},
   "outputs": [
    {
     "name": "stdout",
     "output_type": "stream",
     "text": [
      "No they are not all strings\n"
     ]
    }
   ],
   "source": [
    "new_list = []\n",
    "d = [\"juan\", 10, \"mitchel\", \"funmi\",\"angel\",\"ada\",\"lola\",\"joy\"]\n",
    "for i in d:\n",
    "    k = type(i)\n",
    "    if k == str:\n",
    "        new_list.append(i)\n",
    "        \n",
    "if len(new_list)==len(d):\n",
    "    print(\"yes they are all strings!\")\n",
    "else:\n",
    "    print(\"No they are not all strings\")"
   ]
  },
  {
   "cell_type": "code",
   "execution_count": null,
   "id": "0bb4e218",
   "metadata": {},
   "outputs": [],
   "source": []
  },
  {
   "cell_type": "code",
   "execution_count": null,
   "id": "3d0fc0eb",
   "metadata": {},
   "outputs": [],
   "source": []
  },
  {
   "cell_type": "code",
   "execution_count": null,
   "id": "bfec3766",
   "metadata": {},
   "outputs": [],
   "source": []
  },
  {
   "cell_type": "code",
   "execution_count": null,
   "id": "21a4645c",
   "metadata": {},
   "outputs": [],
   "source": []
  }
 ],
 "metadata": {
  "kernelspec": {
   "display_name": "Python 3 (ipykernel)",
   "language": "python",
   "name": "python3"
  },
  "language_info": {
   "codemirror_mode": {
    "name": "ipython",
    "version": 3
   },
   "file_extension": ".py",
   "mimetype": "text/x-python",
   "name": "python",
   "nbconvert_exporter": "python",
   "pygments_lexer": "ipython3",
   "version": "3.9.7"
  }
 },
 "nbformat": 4,
 "nbformat_minor": 5
}
