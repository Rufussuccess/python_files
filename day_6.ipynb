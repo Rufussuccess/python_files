{
 "cells": [
  {
   "cell_type": "code",
   "execution_count": 1,
   "id": "161298be",
   "metadata": {},
   "outputs": [
    {
     "name": "stdout",
     "output_type": "stream",
     "text": [
      "The Zen of Python, by Tim Peters\n",
      "\n",
      "Beautiful is better than ugly.\n",
      "Explicit is better than implicit.\n",
      "Simple is better than complex.\n",
      "Complex is better than complicated.\n",
      "Flat is better than nested.\n",
      "Sparse is better than dense.\n",
      "Readability counts.\n",
      "Special cases aren't special enough to break the rules.\n",
      "Although practicality beats purity.\n",
      "Errors should never pass silently.\n",
      "Unless explicitly silenced.\n",
      "In the face of ambiguity, refuse the temptation to guess.\n",
      "There should be one-- and preferably only one --obvious way to do it.\n",
      "Although that way may not be obvious at first unless you're Dutch.\n",
      "Now is better than never.\n",
      "Although never is often better than *right* now.\n",
      "If the implementation is hard to explain, it's a bad idea.\n",
      "If the implementation is easy to explain, it may be a good idea.\n",
      "Namespaces are one honking great idea -- let's do more of those!\n"
     ]
    }
   ],
   "source": [
    "import this"
   ]
  },
  {
   "cell_type": "markdown",
   "id": "43f19b0c",
   "metadata": {},
   "source": [
    "# SUCCESS Let's Code"
   ]
  },
  {
   "cell_type": "code",
   "execution_count": 1,
   "id": "1d5ac2b1",
   "metadata": {},
   "outputs": [],
   "source": [
    "array = [3,5,\"timi\", 3, \"jane\", 5, 4, 3, 4, 3, 3, \"timi\"]"
   ]
  },
  {
   "cell_type": "code",
   "execution_count": 2,
   "id": "3ca47426",
   "metadata": {},
   "outputs": [
    {
     "name": "stdout",
     "output_type": "stream",
     "text": [
      "{3: 5, 5: 2, 'timi': 2, 'jane': 1, 4: 2}\n"
     ]
    }
   ],
   "source": [
    "dict_arr = {}\n",
    "for n in array:\n",
    "    dict_arr[n] = dict_arr.get(n,0)+1\n",
    "print(dict_arr)"
   ]
  },
  {
   "cell_type": "code",
   "execution_count": 3,
   "id": "000a8a62",
   "metadata": {},
   "outputs": [
    {
     "name": "stdout",
     "output_type": "stream",
     "text": [
      "[5, 2, 2, 1, 2]\n"
     ]
    }
   ],
   "source": [
    "counts = []\n",
    "for i, j in dict_arr.items():\n",
    "    counts.append(j)\n",
    "print(counts)"
   ]
  },
  {
   "cell_type": "code",
   "execution_count": 4,
   "id": "41292704",
   "metadata": {},
   "outputs": [
    {
     "name": "stdout",
     "output_type": "stream",
     "text": [
      "5\n"
     ]
    }
   ],
   "source": [
    "d_max = counts[0]\n",
    "for i in counts:\n",
    "    if i > d_max:\n",
    "        d_max =1\n",
    "print(d_max)"
   ]
  },
  {
   "cell_type": "code",
   "execution_count": 5,
   "id": "0dc68c9f",
   "metadata": {},
   "outputs": [
    {
     "name": "stdout",
     "output_type": "stream",
     "text": [
      "3\n"
     ]
    }
   ],
   "source": [
    "for k, n in dict_arr.items():\n",
    "    if n ==d_max:\n",
    "        print(k)"
   ]
  },
  {
   "cell_type": "code",
   "execution_count": 6,
   "id": "180e6e8c",
   "metadata": {},
   "outputs": [],
   "source": [
    "counts.sort()"
   ]
  },
  {
   "cell_type": "code",
   "execution_count": 7,
   "id": "75d394d0",
   "metadata": {},
   "outputs": [
    {
     "name": "stdout",
     "output_type": "stream",
     "text": [
      "[1, 2, 2, 2, 5]\n"
     ]
    }
   ],
   "source": [
    "print(counts)"
   ]
  },
  {
   "cell_type": "code",
   "execution_count": 8,
   "id": "6380cf8f",
   "metadata": {},
   "outputs": [],
   "source": [
    "counts.reverse()"
   ]
  },
  {
   "cell_type": "code",
   "execution_count": 9,
   "id": "488e7ab9",
   "metadata": {},
   "outputs": [
    {
     "data": {
      "text/plain": [
       "[5, 2, 2, 2, 1]"
      ]
     },
     "execution_count": 9,
     "metadata": {},
     "output_type": "execute_result"
    }
   ],
   "source": [
    "counts"
   ]
  },
  {
   "cell_type": "code",
   "execution_count": 10,
   "id": "1487687f",
   "metadata": {},
   "outputs": [
    {
     "data": {
      "text/plain": [
       "{3: 5, 5: 2, 'timi': 2, 'jane': 1, 4: 2}"
      ]
     },
     "execution_count": 10,
     "metadata": {},
     "output_type": "execute_result"
    }
   ],
   "source": [
    "dict_arr"
   ]
  },
  {
   "cell_type": "code",
   "execution_count": 1,
   "id": "f8458b65",
   "metadata": {},
   "outputs": [
    {
     "name": "stdout",
     "output_type": "stream",
     "text": [
      "10\n",
      "11\n",
      "11\n",
      "12\n",
      "12\n",
      "13\n",
      "13\n",
      "14\n",
      "14\n",
      "15\n",
      "15\n",
      "16\n",
      "16\n",
      "17\n",
      "17\n",
      "18\n",
      "18\n",
      "19\n",
      "19\n",
      "20\n"
     ]
    }
   ],
   "source": [
    "i = 10\n",
    "while i < 20:\n",
    "    print(i)\n",
    "    i = i + 1\n",
    "    print(i)"
   ]
  },
  {
   "cell_type": "code",
   "execution_count": null,
   "id": "f1d15af6",
   "metadata": {},
   "outputs": [
    {
     "name": "stdout",
     "output_type": "stream",
     "text": [
      "enter guess: 6\n",
      "guess again!\n"
     ]
    }
   ],
   "source": [
    "guess_here = 10\n",
    "guess_count = 0\n",
    "number_guess = 3\n",
    "\n",
    "while guess_count < number_guess:\n",
    "    guess = int(input(\"enter guess: \"))\n",
    "    guess_count + guess_count + 1 \n",
    "    if guess_here == guess:\n",
    "        print(\"your guess was right\")\n",
    "    else:\n",
    "        print(\"guess again!\")\n",
    "else: \n",
    "        print(\"game over !!!\")"
   ]
  },
  {
   "cell_type": "code",
   "execution_count": 2,
   "id": "82a2dee4",
   "metadata": {},
   "outputs": [
    {
     "name": "stdout",
     "output_type": "stream",
     "text": [
      "The sum is 165\n"
     ]
    }
   ],
   "source": [
    "n = 20\n",
    "sum = 0\n",
    "i = 10\n",
    "while i <= n:\n",
    "    sum = sum + i\n",
    "    i = i + 1\n",
    "print(\"The sum is\",sum)"
   ]
  },
  {
   "cell_type": "code",
   "execution_count": 5,
   "id": "29cb4b1f",
   "metadata": {},
   "outputs": [
    {
     "name": "stdout",
     "output_type": "stream",
     "text": [
      "[{'name': 'tobi', 'scores': {'eng': 55, 'math': 75, 'econs': 95}, 'class': 'ss1', 'family': 'both'}, {'name': 'manuel', 'scores': {'eng': 44, 'math': 65, 'econs': 79}, 'class': 'ss2', 'family': 'single'}]\n"
     ]
    }
   ],
   "source": [
    "dict_data =[{\"name\":\"tobi\", \"scores\": {\"eng\":55,\n",
    "                                      \"math\": 75,\n",
    "                                      \"econs\":95},\n",
    "            \"class\": \"ss1\",\n",
    "            \"family\" : \"both\"},\n",
    "            {\"name\": \"manuel\", \"scores\": {\"eng\": 44,\n",
    "                                        \"math\": 65,\n",
    "                                        \"econs\": 79},\n",
    "           \"class\": \"ss2\",\n",
    "           \"family\": \"single\"}]\n",
    "print(dict_data)"
   ]
  },
  {
   "cell_type": "code",
   "execution_count": null,
   "id": "40653de2",
   "metadata": {},
   "outputs": [],
   "source": [
    "1. find the average scores for eaach of the students\n",
    "2. add that average score inside the dictionary i.e \"average\": 50\n",
    "3. write a query that will select all students in a. ss2\n",
    "b. both\n",
    "4. what is the modal score for tobi."
   ]
  },
  {
   "cell_type": "code",
   "execution_count": 6,
   "id": "71427df4",
   "metadata": {},
   "outputs": [
    {
     "name": "stdout",
     "output_type": "stream",
     "text": [
      "[[55, 75, 95], [44, 65, 79]]\n"
     ]
    }
   ],
   "source": [
    "new_scores = []\n",
    "for i in dict_data:\n",
    "    arr = []\n",
    "    score_vals = i[\"scores\"]\n",
    "    for n, j in score_vals.items():\n",
    "        arr.append(j)\n",
    "    new_scores.append(arr)\n",
    "print(new_scores)"
   ]
  },
  {
   "cell_type": "code",
   "execution_count": null,
   "id": "53acf170",
   "metadata": {},
   "outputs": [],
   "source": []
  }
 ],
 "metadata": {
  "kernelspec": {
   "display_name": "Python 3 (ipykernel)",
   "language": "python",
   "name": "python3"
  },
  "language_info": {
   "codemirror_mode": {
    "name": "ipython",
    "version": 3
   },
   "file_extension": ".py",
   "mimetype": "text/x-python",
   "name": "python",
   "nbconvert_exporter": "python",
   "pygments_lexer": "ipython3",
   "version": "3.9.7"
  }
 },
 "nbformat": 4,
 "nbformat_minor": 5
}
