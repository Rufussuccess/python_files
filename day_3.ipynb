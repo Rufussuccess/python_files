{
 "cells": [
  {
   "cell_type": "code",
   "execution_count": 102,
   "id": "e1eeb95c",
   "metadata": {
    "scrolled": true
   },
   "outputs": [],
   "source": [
    "import this"
   ]
  },
  {
   "cell_type": "markdown",
   "id": "6c43ed65",
   "metadata": {},
   "source": [
    "# Let's code"
   ]
  },
  {
   "cell_type": "code",
   "execution_count": 103,
   "id": "c1851e29",
   "metadata": {},
   "outputs": [
    {
     "name": "stdout",
     "output_type": "stream",
     "text": [
      "['jude', 'Thelma', True, 'yes', 20]\n"
     ]
    }
   ],
   "source": [
    "y = [\"jude\",\"Thelma\",True,\"yes\",20]\n",
    "print(y)"
   ]
  },
  {
   "cell_type": "code",
   "execution_count": 104,
   "id": "5c6aa500",
   "metadata": {},
   "outputs": [
    {
     "name": "stdout",
     "output_type": "stream",
     "text": [
      "[20, 35.1]\n"
     ]
    }
   ],
   "source": [
    "y = [\"jude\",\"Thelma\",True,\"yes\",20,35.1]\n",
    "strng = []\n",
    "numbers = []\n",
    "booleans = []\n",
    "for i in y:\n",
    "    if type(i) == str:\n",
    "        strng.append(i)\n",
    "    elif type(i) == bool:\n",
    "        booleans.append(i)\n",
    "    else:\n",
    "        numbers.append(i)\n",
    "print(numbers)"
   ]
  },
  {
   "cell_type": "code",
   "execution_count": 105,
   "id": "9462a5c4",
   "metadata": {},
   "outputs": [
    {
     "name": "stdout",
     "output_type": "stream",
     "text": [
      "50\n"
     ]
    }
   ],
   "source": [
    "vals = []\n",
    "for i in range(1,50+1):\n",
    "    if i%2 != 0:\n",
    "        a = i**(1/2)\n",
    "        vals.append(i)\n",
    "print(i)"
   ]
  },
  {
   "cell_type": "code",
   "execution_count": 106,
   "id": "0dac8802",
   "metadata": {},
   "outputs": [
    {
     "name": "stdout",
     "output_type": "stream",
     "text": [
      "[1.0, 1.7320508075688772, 2.23606797749979, 2.6457513110645907, 3.0, 3.3166247903554, 3.605551275463989, 3.872983346207417, 4.123105625617661, 4.358898943540674, 4.58257569495584, 4.795831523312719, 5.0, 5.196152422706632, 5.385164807134504, 5.5677643628300215, 5.744562646538029, 5.916079783099616, 6.082762530298219, 6.244997998398398, 6.4031242374328485, 6.557438524302, 6.708203932499369, 6.855654600401044, 7.0]\n"
     ]
    }
   ],
   "source": [
    "vals = []\n",
    "for i in range(1,50+1):\n",
    "    if i%2 != 0:\n",
    "        a = i**(1/2)\n",
    "        vals.append(a)\n",
    "print(vals)"
   ]
  },
  {
   "cell_type": "code",
   "execution_count": 107,
   "id": "9601cafc",
   "metadata": {},
   "outputs": [
    {
     "name": "stdout",
     "output_type": "stream",
     "text": [
      "[1.0, 1.7320508075688772, 2.23606797749979, 2.6457513110645907, 3.0, 3.3166247903554, 3.605551275463989, 3.872983346207417, 4.123105625617661, 4.358898943540674, 4.58257569495584, 4.795831523312719, 5.0, 5.196152422706632, 5.385164807134504, 5.5677643628300215, 5.744562646538029, 5.916079783099616, 6.082762530298219, 6.244997998398398, 6.4031242374328485, 6.557438524302, 6.708203932499369, 6.855654600401044, 7.0]\n"
     ]
    }
   ],
   "source": [
    "number_vals = [(i**(1/2)) for i in range(1,50+1) if i%2!=0]\n",
    "print(number_vals)"
   ]
  },
  {
   "cell_type": "code",
   "execution_count": 108,
   "id": "a58be958",
   "metadata": {},
   "outputs": [
    {
     "data": {
      "text/plain": [
       "bool"
      ]
     },
     "execution_count": 108,
     "metadata": {},
     "output_type": "execute_result"
    }
   ],
   "source": [
    "type(True)"
   ]
  },
  {
   "cell_type": "code",
   "execution_count": 109,
   "id": "173dc84d",
   "metadata": {},
   "outputs": [
    {
     "name": "stdout",
     "output_type": "stream",
     "text": [
      "117.93134714122765\n"
     ]
    }
   ],
   "source": [
    "sum_val = 0\n",
    "for i in number_vals:\n",
    "    sum_val = sum_val + i\n",
    "    round((sum_val), 2)\n",
    "print(sum_val)"
   ]
  },
  {
   "cell_type": "code",
   "execution_count": 97,
   "id": "002ac2fa",
   "metadata": {},
   "outputs": [
    {
     "name": "stdout",
     "output_type": "stream",
     "text": [
      "4.7172\n"
     ]
    }
   ],
   "source": [
    "sum_val = 0\n",
    "for i in number_vals:\n",
    "    sum_val = sum_val + i\n",
    "total_sum = round((sum_val), 2)\n",
    "mean = total_sum/len(number_vals)\n",
    "print(mean)"
   ]
  },
  {
   "cell_type": "code",
   "execution_count": 98,
   "id": "0e91ba59",
   "metadata": {},
   "outputs": [
    {
     "name": "stdout",
     "output_type": "stream",
     "text": [
      "12.5\n"
     ]
    }
   ],
   "source": [
    "vals =[10, 12.5, 8, 9.5, 6, 11.5, 7, 4]\n",
    "pos = vals[0]\n",
    "for i in vals:\n",
    "    if i > pos:\n",
    "        pos = i\n",
    "print(pos)"
   ]
  },
  {
   "cell_type": "code",
   "execution_count": 99,
   "id": "27ff7740",
   "metadata": {},
   "outputs": [
    {
     "name": "stdout",
     "output_type": "stream",
     "text": [
      "4\n"
     ]
    }
   ],
   "source": [
    "vals =[10, 12.5, 8, 9.5, 6, 11.5, 7, 4]\n",
    "pos = vals[0] \n",
    "for i in vals:\n",
    "    if i < pos:\n",
    "        pos = i\n",
    "print(pos)"
   ]
  },
  {
   "cell_type": "code",
   "execution_count": 100,
   "id": "a194da73",
   "metadata": {},
   "outputs": [
    {
     "name": "stdout",
     "output_type": "stream",
     "text": [
      "9\n"
     ]
    }
   ],
   "source": [
    "x = [10, 15, 20, 30]\n",
    "u = [15, 21, 28, 39]\n",
    "if len(x) == len(u):\n",
    "    for i in range(0,len(u)):\n",
    "        diff_val = u[i] - x[i]\n",
    "print(diff_val)"
   ]
  },
  {
   "cell_type": "code",
   "execution_count": 101,
   "id": "0febd9d1",
   "metadata": {},
   "outputs": [
    {
     "name": "stdout",
     "output_type": "stream",
     "text": [
      "[5, 6, 8, 9]\n"
     ]
    }
   ],
   "source": [
    "x = [10, 15, 20, 30]\n",
    "u = [15, 21, 28, 39]\n",
    "diff = []\n",
    "if len(x) == len(u):\n",
    "    for i in range(0,len(u)):\n",
    "        diff_val = u[i] - x[i]\n",
    "        diff.append(diff_val)\n",
    "        \n",
    "    print(diff)\n",
    "else:\n",
    "    print(false)\n"
   ]
  },
  {
   "cell_type": "code",
   "execution_count": 50,
   "id": "84a8eee5",
   "metadata": {},
   "outputs": [
    {
     "name": "stdout",
     "output_type": "stream",
     "text": [
      "18.75\n"
     ]
    }
   ],
   "source": [
    "x = [10, 15, 20, 30]\n",
    "sum_x = 0\n",
    "for i in x:\n",
    "    sum_x = sum_x + i\n",
    "    mean = sum_x/len(x)\n",
    "print(mean)"
   ]
  },
  {
   "cell_type": "code",
   "execution_count": 39,
   "id": "7a56eb55",
   "metadata": {},
   "outputs": [
    {
     "name": "stdout",
     "output_type": "stream",
     "text": [
      "25.75\n"
     ]
    }
   ],
   "source": [
    "u = [15, 21, 28, 39]\n",
    "sum_u = 0\n",
    "for i in u:\n",
    "    sum_u = sum_u + i\n",
    "    mean = sum_u/len(u)\n",
    "print(mean)"
   ]
  },
  {
   "cell_type": "code",
   "execution_count": 52,
   "id": "0f0093fe",
   "metadata": {},
   "outputs": [
    {
     "name": "stdout",
     "output_type": "stream",
     "text": [
      "[14.06, 5.06, 85.56, 410.06]\n"
     ]
    }
   ],
   "source": [
    "std = 0\n",
    "sttd = []\n",
    "for i in u:\n",
    "    std = i - mean\n",
    "    sub_std = std**2\n",
    "    rund = round((sub_std), 2) \n",
    "    sttd.append(rund)\n",
    "print(sttd)"
   ]
  },
  {
   "cell_type": "code",
   "execution_count": 53,
   "id": "ce9842c7",
   "metadata": {},
   "outputs": [
    {
     "name": "stdout",
     "output_type": "stream",
     "text": [
      "952.22\n"
     ]
    }
   ],
   "source": [
    "sum_sud = 0\n",
    "for i in sttd:\n",
    "    sum_sub = sum_sub + i\n",
    "print(sum_sub)"
   ]
  },
  {
   "cell_type": "code",
   "execution_count": 54,
   "id": "64dfcb38",
   "metadata": {},
   "outputs": [
    {
     "name": "stdout",
     "output_type": "stream",
     "text": [
      "15.429031077809132\n"
     ]
    }
   ],
   "source": [
    "standard_dev = (sum_sub/len(u))**(1/2)\n",
    "print(standard_dev)"
   ]
  },
  {
   "cell_type": "code",
   "execution_count": 43,
   "id": "2dfe26b5",
   "metadata": {},
   "outputs": [
    {
     "name": "stdout",
     "output_type": "stream",
     "text": [
      "18.75\n"
     ]
    }
   ],
   "source": [
    "x = [10, 15, 20, 30]\n",
    "sum_x = 0\n",
    "for i in x:\n",
    "    sum_x = sum_x + i\n",
    "    mean = sum_x/len(x)\n",
    "print(mean)"
   ]
  },
  {
   "cell_type": "code",
   "execution_count": 48,
   "id": "a223e830",
   "metadata": {},
   "outputs": [
    {
     "name": "stdout",
     "output_type": "stream",
     "text": [
      "[76.56, 14.06, 1.56, 126.56]\n"
     ]
    }
   ],
   "source": [
    "std = 0\n",
    "sttd = []\n",
    "for i in x:\n",
    "    std = i - mean\n",
    "    sub_std = std**2\n",
    "    rund = round((sub_std),2) \n",
    "    sttd.append(rund)\n",
    "print(sttd)"
   ]
  },
  {
   "cell_type": "code",
   "execution_count": 49,
   "id": "77ee32be",
   "metadata": {},
   "outputs": [
    {
     "name": "stdout",
     "output_type": "stream",
     "text": [
      "218.74\n"
     ]
    }
   ],
   "source": [
    "sum_sub = 0\n",
    "for i in sttd:\n",
    "    sum_sub = sum_sub + i\n",
    "print(sum_sub)"
   ]
  },
  {
   "cell_type": "code",
   "execution_count": 50,
   "id": "9ed52386",
   "metadata": {},
   "outputs": [
    {
     "name": "stdout",
     "output_type": "stream",
     "text": [
      "7.394930696091749\n"
     ]
    }
   ],
   "source": [
    "standard_dev = (sum_sub/len(x))**(1/2)\n",
    "print(standard_dev)"
   ]
  },
  {
   "cell_type": "code",
   "execution_count": 28,
   "id": "79db4127",
   "metadata": {},
   "outputs": [
    {
     "name": "stdout",
     "output_type": "stream",
     "text": [
      "['192', '168', '120', '15']\n",
      "['221', '124', '127', '50']\n",
      "['101', '124', '56', '12']\n",
      "['221.124.127.50']\n"
     ]
    }
   ],
   "source": [
    "ip_addr = [\"192.168.120.15\", \"221.124.127.50\", \"101.124.56.12\"]\n",
    "lst =[]\n",
    "for i in ip_addr:\n",
    "    print(i.split(\".\"))\n",
    "    a = int(i.split(\".\")[-1])\n",
    "    if a >= 30 and a<= 50:\n",
    "        lst.append(i)\n",
    "print(lst)"
   ]
  },
  {
   "cell_type": "code",
   "execution_count": 27,
   "id": "e3fd53b3",
   "metadata": {},
   "outputs": [
    {
     "name": "stdout",
     "output_type": "stream",
     "text": [
      "['221.124.127.50']\n"
     ]
    }
   ],
   "source": [
    "ip_addr = [\"192.168.120.15\", \"221.124.127.50\", \"101.124.56.12\"]\n",
    "lst =[]\n",
    "for i in ip_addr:\n",
    "    a = int(i.split(\".\")[-1])\n",
    "    if a >= 30 and a<= 50:\n",
    "        lst.append(i)\n",
    "print(lst)"
   ]
  },
  {
   "cell_type": "code",
   "execution_count": 29,
   "id": "a7070ee9",
   "metadata": {},
   "outputs": [
    {
     "name": "stdout",
     "output_type": "stream",
     "text": [
      "[[1, 2, 3], [4, 5, 6], [7, 8, 9]]\n"
     ]
    }
   ],
   "source": [
    "m = [[1, 2, 3],\n",
    "    [4, 5, 6],\n",
    "    [7, 8, 9]]\n",
    "print(m)"
   ]
  },
  {
   "cell_type": "code",
   "execution_count": 30,
   "id": "84140eb2",
   "metadata": {},
   "outputs": [
    {
     "name": "stdout",
     "output_type": "stream",
     "text": [
      "4\n"
     ]
    }
   ],
   "source": [
    "aa = []\n",
    "for i in m:\n",
    "    aa.append(i[0])\n",
    "print(aa[1])"
   ]
  },
  {
   "cell_type": "code",
   "execution_count": 31,
   "id": "c074c21f",
   "metadata": {},
   "outputs": [
    {
     "name": "stdout",
     "output_type": "stream",
     "text": [
      "[1, 2, 3]\n",
      "[4, 5, 6]\n",
      "[7, 8, 9]\n"
     ]
    }
   ],
   "source": [
    "for i in m:\n",
    "    print(i)"
   ]
  },
  {
   "cell_type": "code",
   "execution_count": 32,
   "id": "a293a3c4",
   "metadata": {},
   "outputs": [
    {
     "name": "stdout",
     "output_type": "stream",
     "text": [
      "[[1, 2, 3], [4, 5, 6], [7, 8, 9]]\n"
     ]
    }
   ],
   "source": [
    "print(m)"
   ]
  },
  {
   "cell_type": "code",
   "execution_count": 34,
   "id": "68bd2879",
   "metadata": {},
   "outputs": [
    {
     "name": "stdout",
     "output_type": "stream",
     "text": [
      "1\n",
      "5\n",
      "9\n"
     ]
    }
   ],
   "source": [
    "for i in range(0,len(m)):\n",
    "    print(m[i][i])"
   ]
  },
  {
   "cell_type": "code",
   "execution_count": 36,
   "id": "0be0f8ce",
   "metadata": {},
   "outputs": [
    {
     "name": "stdout",
     "output_type": "stream",
     "text": [
      "[3, 5, 9, 3, 7, 10]\n"
     ]
    }
   ],
   "source": [
    "a = [1,3,5,9,3,7,10]\n",
    "print(a[a.index(3):])"
   ]
  },
  {
   "cell_type": "code",
   "execution_count": null,
   "id": "682b6c67",
   "metadata": {},
   "outputs": [],
   "source": []
  }
 ],
 "metadata": {
  "kernelspec": {
   "display_name": "Python 3 (ipykernel)",
   "language": "python",
   "name": "python3"
  },
  "language_info": {
   "codemirror_mode": {
    "name": "ipython",
    "version": 3
   },
   "file_extension": ".py",
   "mimetype": "text/x-python",
   "name": "python",
   "nbconvert_exporter": "python",
   "pygments_lexer": "ipython3",
   "version": "3.9.7"
  }
 },
 "nbformat": 4,
 "nbformat_minor": 5
}
